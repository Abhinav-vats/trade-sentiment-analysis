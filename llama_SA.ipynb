{
 "cells": [
  {
   "cell_type": "code",
   "execution_count": 1,
   "metadata": {},
   "outputs": [],
   "source": [
    "import pandas as pd\n",
    "import requests as rq\n",
    "import time\n",
    "import json\n",
    "from langchain_ollama import OllamaLLM\n"
   ]
  },
  {
   "cell_type": "code",
   "execution_count": 2,
   "metadata": {},
   "outputs": [],
   "source": [
    "llm = OllamaLLM(model=\"llama3:8b\")"
   ]
  },
  {
   "cell_type": "code",
   "execution_count": 3,
   "metadata": {},
   "outputs": [],
   "source": [
    "def get_ollama_response(text):\n",
    "    prompt = f\"\"\"Please analyse the following text and\n",
    "    give response only in json format and no other extra text as {{\"score\":<SCORE>, \"justification\":<JUST>\"}}, \n",
    "    here <SCORE> is sentiment score between -1 to 1 (where -1 is most negative, 0 is neutral and 1 is most positive)\n",
    "    and <JUST> is Justification for why you choose this sentiment score\n",
    "    Text: {text}\"\"\"\n",
    "\n",
    "    try:\n",
    "        response_text = llm.invoke(prompt)\n",
    "\n",
    "        # print(response_text)\n",
    "\n",
    "        # lines  = response_text.strip().split('\\n')\n",
    "\n",
    "        # score = float(lines[0])\n",
    "\n",
    "        # justification = lines[1] if len(lines)>1 else \"No justification provided\"\n",
    "\n",
    "        # score = max(min(score, 1.0), -1.0)\n",
    "\n",
    "        return json.loads(response_text)\n",
    "\n",
    "        # return {\n",
    "        #     \"score\": score,\n",
    "        #     \"justification\": justification\n",
    "        # }\n",
    "\n",
    "    except Exception as e:\n",
    "        print(f\"Error in processing: {str(e)}\")\n",
    "        return {\n",
    "            \"score\": -2.0,\n",
    "            \"justification\": f\"Error in processing: {str(e)}\"\n",
    "        }\n",
    "\n"
   ]
  },
  {
   "cell_type": "code",
   "execution_count": 4,
   "metadata": {},
   "outputs": [],
   "source": [
    "input_file =\"data/Sentiment_analysis_Data_fin.csv\"\n",
    "df = pd.read_csv(input_file)"
   ]
  },
  {
   "cell_type": "code",
   "execution_count": 6,
   "metadata": {},
   "outputs": [],
   "source": [
    "def process_sentiment_analysis( model=\"llama_3_8b\"):\n",
    "    df[f\"sentiment_score_{model}\"] = 0.0\n",
    "    df[f\"sentiment_justification\"] = ''\n",
    "    total_rows = len(df)\n",
    "\n",
    "    for idx, row in df.iterrows():\n",
    "        try:\n",
    "            result = get_ollama_response(row['text'])\n",
    "\n",
    "\n",
    "            df.at[idx, f\"sentiment_score_{model}\"] = result['score']\n",
    "            df.at[idx, f\"sentiment_justification\"] = result['justification']\n",
    "\n",
    "            time.sleep(0.5)\n",
    "\n",
    "            print(f\"Processed {idx+1}/{total_rows} rows ({((idx+1)/total_rows * 100):.2f}%)\")\n",
    "\n",
    "        except Exception as e:\n",
    "            print(f\"Error processing row {idx}: {str(e)}\")\n",
    "            continue\n",
    "\n",
    "\n",
    "            \n",
    "    "
   ]
  },
  {
   "cell_type": "code",
   "execution_count": 10,
   "metadata": {},
   "outputs": [
    {
     "name": "stdout",
     "output_type": "stream",
     "text": [
      "Analysis complete. Result saved to data/Sentiment_analysis_Data_fin_result.csv\n"
     ]
    }
   ],
   "source": [
    "try:\n",
    "    output_file= \"data/Sentiment_analysis_Data_fin_result.csv\"\n",
    "\n",
    "    # process_sentiment_analysis()\n",
    "finally:\n",
    "    # df.to_csv(output_file, index=False)\n",
    "    print(f\"Analysis complete. Result saved to {output_file}\")"
   ]
  },
  {
   "cell_type": "code",
   "execution_count": null,
   "metadata": {},
   "outputs": [],
   "source": []
  }
 ],
 "metadata": {
  "kernelspec": {
   "display_name": "base",
   "language": "python",
   "name": "python3"
  },
  "language_info": {
   "codemirror_mode": {
    "name": "ipython",
    "version": 3
   },
   "file_extension": ".py",
   "mimetype": "text/x-python",
   "name": "python",
   "nbconvert_exporter": "python",
   "pygments_lexer": "ipython3",
   "version": "3.12.4"
  }
 },
 "nbformat": 4,
 "nbformat_minor": 2
}
