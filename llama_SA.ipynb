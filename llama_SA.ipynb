{
 "cells": [
  {
   "cell_type": "code",
   "execution_count": 11,
   "metadata": {},
   "outputs": [],
   "source": [
    "import pandas as pd\n",
    "import requests as rq\n",
    "import time\n",
    "import json\n",
    "from langchain_ollama import OllamaLLM\n",
    "from transformers import AutoTokenizer, AutoModelForSequenceClassification\n",
    "import torch\n",
    "import torch.nn.functional as F\n",
    "from transformers import pipeline\n",
    "\n",
    "\n",
    "import logging\n",
    "\n",
    "logging.getLogger(\"transformers\").setLevel(logging.ERROR)\n"
   ]
  },
  {
   "cell_type": "code",
   "execution_count": 2,
   "metadata": {},
   "outputs": [],
   "source": [
    "llm = OllamaLLM(model=\"llama3:8b\")"
   ]
  },
  {
   "cell_type": "code",
   "execution_count": 3,
   "metadata": {},
   "outputs": [],
   "source": [
    "def get_ollama_response(text):\n",
    "    prompt = f\"\"\"Please analyse the following text and\n",
    "    give response only in json format and no other extra text as {{\"score\":<SCORE>, \"justification\":<JUST>\"}}, \n",
    "    here <SCORE> is sentiment score between -1 to 1 (where -1 is most negative, 0 is neutral and 1 is most positive)\n",
    "    and <JUST> is Justification for why you choose this sentiment score\n",
    "    Text: {text}\"\"\"\n",
    "\n",
    "    try:\n",
    "        response_text = llm.invoke(prompt)\n",
    "\n",
    "        # print(response_text)\n",
    "\n",
    "        # lines  = response_text.strip().split('\\n')\n",
    "\n",
    "        # score = float(lines[0])\n",
    "\n",
    "        # justification = lines[1] if len(lines)>1 else \"No justification provided\"\n",
    "\n",
    "        # score = max(min(score, 1.0), -1.0)\n",
    "\n",
    "        return json.loads(response_text)\n",
    "\n",
    "        # return {\n",
    "        #     \"score\": score,\n",
    "        #     \"justification\": justification\n",
    "        # }\n",
    "\n",
    "    except Exception as e:\n",
    "        print(f\"Error in processing: {str(e)}\")\n",
    "        return {\n",
    "            \"score\": -2.0,\n",
    "            \"justification\": f\"Error in processing: {str(e)}\"\n",
    "        }\n",
    "\n"
   ]
  },
  {
   "cell_type": "code",
   "execution_count": null,
   "metadata": {},
   "outputs": [],
   "source": []
  },
  {
   "cell_type": "code",
   "execution_count": null,
   "metadata": {},
   "outputs": [],
   "source": []
  },
  {
   "cell_type": "code",
   "execution_count": 89,
   "metadata": {},
   "outputs": [],
   "source": [
    "# def process_sentiment_analysis( model=\"llama_3_8b\"):\n",
    "#     df[f\"sentiment_score_{model}\"] = 0.0\n",
    "#     df[f\"sentiment_justification\"] = ''\n",
    "#     total_rows = len(df)\n",
    "\n",
    "#     for idx, row in df.iterrows():\n",
    "#         try:\n",
    "#             result = get_ollama_response(row['text'])\n",
    "\n",
    "\n",
    "#             df.at[idx, f\"sentiment_score_{model}\"] = result['score']\n",
    "#             df.at[idx, f\"sentiment_justification\"] = result['justification']\n",
    "\n",
    "#             time.sleep(0.5)\n",
    "\n",
    "#             print(f\"Processed {idx+1}/{total_rows} rows ({((idx+1)/total_rows * 100):.2f}%)\")\n",
    "\n",
    "#         except Exception as e:\n",
    "#             print(f\"Error processing row {idx}: {str(e)}\")\n",
    "#             continue\n",
    "\n",
    "\n",
    "            \n",
    "    "
   ]
  },
  {
   "cell_type": "code",
   "execution_count": 10,
   "metadata": {},
   "outputs": [
    {
     "name": "stdout",
     "output_type": "stream",
     "text": [
      "Analysis complete. Result saved to data/Sentiment_analysis_Data_fin_result.csv\n"
     ]
    }
   ],
   "source": [
    "try:\n",
    "    output_file= \"data/Sentiment_analysis_Data_fin_result.csv\"\n",
    "\n",
    "    # process_sentiment_analysis()\n",
    "finally:\n",
    "    # df.to_csv(output_file, index=False)\n",
    "    print(f\"Analysis complete. Result saved to {output_file}\")"
   ]
  },
  {
   "cell_type": "code",
   "execution_count": 58,
   "metadata": {},
   "outputs": [],
   "source": [
    "def calculate_SA_Polarity(text,model_name = \"cardiffnlp/twitter-roberta-base-sentiment-latest\"):\n",
    "    try:\n",
    "        tokenizer = AutoTokenizer.from_pretrained(model_name, force_download=False)\n",
    "        model = AutoModelForSequenceClassification.from_pretrained(model_name, force_download=False)\n",
    "        inputs = tokenizer(text, return_tensors=\"pt\")\n",
    "        with torch.no_grad():\n",
    "            outputs = model(**inputs)\n",
    "            # print(f\"Outputs: {outputs}\")\n",
    "            logits = outputs.logits.squeeze()\n",
    "            # print(f\"Logits: {logits}\")\n",
    "\n",
    "        \n",
    "        probs = F.softmax(logits, dim=0)\n",
    "        # print(f\"Probs: {probs}\")\n",
    "\n",
    "        # Compute polarity score: (-1 * neg) + (0 * neutral) + (1 * pos)\n",
    "        polarity = -probs[0] + probs[2]\n",
    "        \n",
    "        return polarity\n",
    "    except Exception as e:\n",
    "        print(str(e))\n",
    "        return -2.5"
   ]
  },
  {
   "cell_type": "code",
   "execution_count": 90,
   "metadata": {},
   "outputs": [
    {
     "data": {
      "text/plain": [
       "Index(['text', 'sentiment_score', 'sentiment_score_llama_3_8b',\n",
       "       'sentiment_justification',\n",
       "       'sentiment_score_cardiffnlp/twitter-roberta-base-sentiment-latest',\n",
       "       'sentiment_score_finiteautomata/bertweet-base-sentiment-analysis',\n",
       "       'sentiment_score_mrm8488/distilroberta-finetuned-financial-news-sentiment-analysis'],\n",
       "      dtype='object')"
      ]
     },
     "execution_count": 90,
     "metadata": {},
     "output_type": "execute_result"
    }
   ],
   "source": [
    "input_file =\"data/Sentiment_analysis_Data_fin_result.csv\"\n",
    "df = pd.read_csv(input_file)\n",
    "df.columns"
   ]
  },
  {
   "cell_type": "code",
   "execution_count": 85,
   "metadata": {},
   "outputs": [],
   "source": [
    "def process_sentiment_analysis_comp( model=\"mrm8488/distilroberta-finetuned-financial-news-sentiment-analysis\"):\n",
    "    df[f\"sentiment_score_{model}\"] = 0.0\n",
    "    total_rows = len(df)\n",
    "\n",
    "    for idx, row in df.iterrows():\n",
    "        try:\n",
    "            input = row['text']\n",
    "            result = calculate_SA_Polarity(input)\n",
    "            print(f\"Polarity of {input}: {result}\")\n",
    "\n",
    "            df.at[idx, f\"sentiment_score_{model}\"] = round(float(result), 2)\n",
    "\n",
    "\n",
    "            print(f\"Processed {idx+1}/{total_rows} rows ({((idx+1)/total_rows * 100):.2f}%)\")\n",
    "\n",
    "        except Exception as e:\n",
    "            print(f\"Error processing row {idx}: {str(e)}\")\n",
    "            continue"
   ]
  },
  {
   "cell_type": "code",
   "execution_count": null,
   "metadata": {},
   "outputs": [],
   "source": []
  },
  {
   "cell_type": "code",
   "execution_count": 88,
   "metadata": {},
   "outputs": [
    {
     "name": "stdout",
     "output_type": "stream",
     "text": [
      "Analysis complete. Result saved to data/Sentiment_analysis_Data_fin_result.csv\n"
     ]
    }
   ],
   "source": [
    "\n",
    "try:\n",
    "    output_file= \"data/Sentiment_analysis_Data_fin_result.csv\"\n",
    "    \n",
    "\n",
    "    # process_sentiment_analysis_comp()\n",
    "finally:\n",
    "    df.to_csv(output_file, index=False)\n",
    "    print(f\"Analysis complete. Result saved to {output_file}\")"
   ]
  },
  {
   "cell_type": "code",
   "execution_count": 87,
   "metadata": {},
   "outputs": [
    {
     "data": {
      "text/plain": [
       "Index(['text', 'sentiment_score', 'sentiment_score_llama_3_8b',\n",
       "       'sentiment_justification',\n",
       "       'sentiment_score_cardiffnlp/twitter-roberta-base-sentiment-latest',\n",
       "       'sentiment_score_finiteautomata/bertweet-base-sentiment-analysis',\n",
       "       'sentiment_score_mrm8488/distilroberta-finetuned-financial-news-sentiment-analysis'],\n",
       "      dtype='object')"
      ]
     },
     "execution_count": 87,
     "metadata": {},
     "output_type": "execute_result"
    }
   ],
   "source": [
    "df.columns"
   ]
  },
  {
   "cell_type": "code",
   "execution_count": null,
   "metadata": {},
   "outputs": [],
   "source": []
  }
 ],
 "metadata": {
  "kernelspec": {
   "display_name": "base",
   "language": "python",
   "name": "python3"
  },
  "language_info": {
   "codemirror_mode": {
    "name": "ipython",
    "version": 3
   },
   "file_extension": ".py",
   "mimetype": "text/x-python",
   "name": "python",
   "nbconvert_exporter": "python",
   "pygments_lexer": "ipython3",
   "version": "3.12.4"
  }
 },
 "nbformat": 4,
 "nbformat_minor": 2
}
